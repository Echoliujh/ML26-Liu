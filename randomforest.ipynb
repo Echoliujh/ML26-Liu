{
 "cells": [
  {
   "cell_type": "code",
   "execution_count": 156,
   "id": "5a571811-5a9b-4b19-8404-53092e210671",
   "metadata": {
    "tags": []
   },
   "outputs": [],
   "source": [
    "import pandas as pd\n",
    "import numpy as np\n",
    "from sklearn.ensemble import RandomForestRegressor\n",
    "from sklearn.metrics import mean_squared_error\n",
    "from sklearn.model_selection import KFold, cross_val_score"
   ]
  },
  {
   "cell_type": "code",
   "execution_count": 138,
   "id": "48120dc8-41f2-452f-a1ce-ecfd927803d5",
   "metadata": {
    "tags": []
   },
   "outputs": [],
   "source": [
    "train_data = pd.read_csv('train_data_knn_imputed.csv')\n",
    "test_data = pd.read_csv('test_data.csv')"
   ]
  },
  {
   "cell_type": "code",
   "execution_count": 134,
   "id": "241eee0e-3738-4ef3-950d-1cb6327222f8",
   "metadata": {
    "tags": []
   },
   "outputs": [],
   "source": [
    "# Convert 'QuestionTiming' to a binary variable where 'User Initiated' = 1 and 'System Initiated' = 0\n",
    "train_data['QuestionTiming_binary'] = (train_data['QuestionTiming'] == 'User Initiated').astype(int)\n",
    "test_data['QuestionTiming_binary'] = (test_data['QuestionTiming'] == 'User Initiated').astype(int)"
   ]
  },
  {
   "cell_type": "code",
   "execution_count": 129,
   "id": "488aefe3-d51c-41f3-980e-1c2feaafa0cc",
   "metadata": {
    "tags": []
   },
   "outputs": [
    {
     "name": "stdout",
     "output_type": "stream",
     "text": [
      "Missing data per column:\n",
      "UserID                                 0\n",
      "QuestionTiming                         0\n",
      "CurrentGameMode                    17013\n",
      "CurrentTask                        17013\n",
      "CurrentSessionLength                   0\n",
      "LastTaskCompleted                  62605\n",
      "LevelProgressionAmount                 0\n",
      "QuestionType                           0\n",
      "ResponseValue                          0\n",
      "QuestionTiming_binary                  0\n",
      "LastTaskCompleted_encoded              0\n",
      "CurrentTask_TargetEncoded              0\n",
      "LastTaskCompleted_TargetEncoded        0\n",
      "CurrentGameMode_LabelEncoded           0\n",
      "Year                                   0\n",
      "Month                                  0\n",
      "Day                                    0\n",
      "Hour                                   0\n",
      "Minute                                 0\n",
      "Second                                 0\n",
      "Weekday                                0\n",
      "WeekendFlag                            0\n",
      "PeriodOfDay_Night                      0\n",
      "PeriodOfDay_Morning                    0\n",
      "PeriodOfDay_Afternoon                  0\n",
      "PeriodOfDay_Evening                    0\n",
      "CurrentGameMode_TargetEncoded      17013\n",
      "dtype: int64\n"
     ]
    }
   ],
   "source": [
    "missing_data = train_data.isnull().sum()\n",
    "print(\"Missing data per column:\")\n",
    "print(missing_data)"
   ]
  },
  {
   "cell_type": "markdown",
   "id": "f813ad1f-3715-49a8-9fe2-64ab8d6ebfed",
   "metadata": {},
   "source": [
    "## split training data into validation and training data set"
   ]
  },
  {
   "cell_type": "code",
   "execution_count": null,
   "id": "d0e3eda0-4590-4fdc-a764-1f97037c7467",
   "metadata": {
    "tags": []
   },
   "outputs": [
    {
     "name": "stdout",
     "output_type": "stream",
     "text": [
      "  UserID CurrentGameMode                CurrentTask  CurrentSessionLength  \\\n",
      "0     p1             NaN                        NaN                     2   \n",
      "1     p1             NaN                        NaN                     0   \n",
      "2     p1          Career                   HOME_VAN                     1   \n",
      "3     p1          Career  RESIDENTIALSMALL_BACKYARD                     6   \n",
      "4     p1          Career  RESIDENTIALSMALL_BACKYARD                    13   \n",
      "\n",
      "  LastTaskCompleted  LevelProgressionAmount QuestionType  ResponseValue  \\\n",
      "0               NaN                0.542331    Wellbeing            509   \n",
      "1               NaN                0.542331    Wellbeing            653   \n",
      "2        WASH_PWVan                1.000000    Wellbeing            705   \n",
      "3        WASH_PWVan                0.168267    Wellbeing            817   \n",
      "4        WASH_PWVan                0.429364    Wellbeing            810   \n",
      "\n",
      "   QuestionTiming_binary  LastTaskCompleted_encoded  ...  Second  Weekday  \\\n",
      "0                      1                 739.760738  ...       0        3   \n",
      "1                      0                 739.760738  ...       0        3   \n",
      "2                      1                 769.228020  ...       0        3   \n",
      "3                      0                 769.228020  ...       0        3   \n",
      "4                      0                 769.228020  ...       0        3   \n",
      "\n",
      "   WeekendFlag  PeriodOfDay_Night  PeriodOfDay_Morning  PeriodOfDay_Afternoon  \\\n",
      "0            0                  0                    0                      0   \n",
      "1            0                  0                    0                      0   \n",
      "2            0                  0                    0                      0   \n",
      "3            0                  0                    0                      0   \n",
      "4            0                  0                    0                      0   \n",
      "\n",
      "   PeriodOfDay_Evening  QuestionTiming_System Initiated  \\\n",
      "0                    1                            False   \n",
      "1                    1                             True   \n",
      "2                    1                            False   \n",
      "3                    1                             True   \n",
      "4                    1                             True   \n",
      "\n",
      "   QuestionTiming_User Initiated  UserAvgResponse  \n",
      "0                           True       724.318182  \n",
      "1                          False       724.318182  \n",
      "2                           True       724.318182  \n",
      "3                          False       724.318182  \n",
      "4                          False       724.318182  \n",
      "\n",
      "[5 rows x 28 columns]\n",
      "完成1。\n",
      "完成2。\n"
     ]
    }
   ],
   "source": [
    "from sklearn.ensemble import RandomForestRegressor\n",
    "from sklearn.model_selection import KFold, cross_val_score\n",
    "print(train_data.head())  \n",
    "\n",
    "features = [ \"CurrentGameMode_LabelEncoded\", \"CurrentTask_TargetEncoded\",\n",
    "    \"LastTaskCompleted_TargetEncoded\", \"LevelProgressionAmount\", \"Month\",\n",
    "    \"WeekendFlag\", \"PeriodOfDay_Night\", \"QuestionTiming_System Initiated\",\"UserAvgResponse\"\n",
    "]\n",
    "X = train_data[features]\n",
    "y = train_data['ResponseValue']\n",
    "\n",
    "\n",
    "kf = KFold(n_splits=5, shuffle=True, random_state=42)\n",
    "print(\"完成1。\")\n",
    "# 创建随机森林回归模型\n",
    "model = RandomForestRegressor(n_estimators=10, random_state=42)\n",
    "print(\"完成2。\")\n",
    "\n",
    "# 进行 k-Fold 交叉验证，并计算每次的平均绝对误差\n",
    "scores = cross_val_score(model, X, y, cv=kf, scoring='neg_mean_absolute_error')\n",
    "\n",
    "# 输出每次验证的结果\n",
    "print(\"MAE scores for each fold:\", -scores)\n",
    "\n",
    "# 计算 MAE 的平均值\n",
    "mean_mae = np.mean(-scores)\n",
    "print(\"Mean MAE across all folds:\", mean_mae)"
   ]
  },
  {
   "cell_type": "code",
   "execution_count": null,
   "id": "89b591c9-b264-49a8-a95c-fdd91ce42393",
   "metadata": {},
   "outputs": [],
   "source": []
  }
 ],
 "metadata": {
  "kernelspec": {
   "display_name": "Python 3 (ipykernel)",
   "language": "python",
   "name": "python3"
  },
  "language_info": {
   "codemirror_mode": {
    "name": "ipython",
    "version": 3
   },
   "file_extension": ".py",
   "mimetype": "text/x-python",
   "name": "python",
   "nbconvert_exporter": "python",
   "pygments_lexer": "ipython3",
   "version": "3.11.5"
  }
 },
 "nbformat": 4,
 "nbformat_minor": 5
}
